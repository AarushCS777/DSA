{
 "cells": [
  {
   "cell_type": "code",
   "execution_count": 1,
   "id": "3794fba7-acdd-43e1-b4f6-4aab971081f8",
   "metadata": {},
   "outputs": [
    {
     "name": "stdout",
     "output_type": "stream",
     "text": [
      "The number is odd\n"
     ]
    }
   ],
   "source": [
    "def iseven(n):\n",
    "    if n == 0:\n",
    "        return True\n",
    "    elif n == 1:\n",
    "        return False\n",
    "    elif n > 1:\n",
    "        return isodd(n - 1)\n",
    "    elif n < 0:\n",
    "        return iseven(-n)\n",
    "def isodd(n):\n",
    "    return not iseven(n)\n",
    "num = -5\n",
    "if iseven(num):\n",
    "    print(\"The number is even\")\n",
    "else:\n",
    "    print(\"The number is odd\")"
   ]
  },
  {
   "cell_type": "code",
   "execution_count": 2,
   "id": "b4428881-0442-4e57-8b0d-25302a9d2822",
   "metadata": {},
   "outputs": [
    {
     "name": "stdout",
     "output_type": "stream",
     "text": [
      "Fibonacci number at position 5 is 3\n"
     ]
    }
   ],
   "source": [
    "def fibonacci(n):\n",
    "    if n < 1:\n",
    "        return -1\n",
    "    elif n==1:\n",
    "        return 0\n",
    "    elif n==2:\n",
    "        return 1\n",
    "    else:\n",
    "        return fibonacci(n-1) + fibonacci(n-2)\n",
    "n = 5 \n",
    "print(f\"Fibonacci number at position {n} is {fibonacci(n)}\")"
   ]
  },
  {
   "cell_type": "code",
   "execution_count": 3,
   "id": "fe9a729f-5cc2-46d0-8846-3f5206af5bc0",
   "metadata": {},
   "outputs": [
    {
     "name": "stdin",
     "output_type": "stream",
     "text": [
      "Enter any number:  5\n"
     ]
    },
    {
     "name": "stdout",
     "output_type": "stream",
     "text": [
      "Factorial output: 120\n"
     ]
    }
   ],
   "source": [
    "def factorial(num):\n",
    "    if num == 0:\n",
    "        return 1\n",
    "    else:\n",
    "        return num*factorial(num-1)\n",
    "n = int(input(\"Enter any number: \"))\n",
    "fact = factorial(n)\n",
    "print(\"Factorial output:\",fact)"
   ]
  },
  {
   "cell_type": "code",
   "execution_count": 4,
   "id": "adbdaadb-a377-4a51-abc5-d4f162ebfb96",
   "metadata": {},
   "outputs": [
    {
     "name": "stdin",
     "output_type": "stream",
     "text": [
      "Enter any number: 6\n",
      "Enter exponent: 2\n"
     ]
    },
    {
     "name": "stdout",
     "output_type": "stream",
     "text": [
      "Result: 36\n"
     ]
    }
   ],
   "source": [
    "def power(a,b):\n",
    "    if b == 0:\n",
    "        return 1\n",
    "    else:\n",
    "        return a*power(a,b-1)\n",
    "num = int(input(\"Enter any number:\"))\n",
    "exp = int(input(\"Enter exponent:\"))\n",
    "result = power(num,exp)\n",
    "print(\"Result:\",result)"
   ]
  },
  {
   "cell_type": "code",
   "execution_count": null,
   "id": "998287c4-d345-441b-a50f-866742444c70",
   "metadata": {},
   "outputs": [],
   "source": []
  }
 ],
 "metadata": {
  "kernelspec": {
   "display_name": "Python 3 (ipykernel)",
   "language": "python",
   "name": "python3"
  },
  "language_info": {
   "codemirror_mode": {
    "name": "ipython",
    "version": 3
   },
   "file_extension": ".py",
   "mimetype": "text/x-python",
   "name": "python",
   "nbconvert_exporter": "python",
   "pygments_lexer": "ipython3",
   "version": "3.12.7"
  }
 },
 "nbformat": 4,
 "nbformat_minor": 5
}
