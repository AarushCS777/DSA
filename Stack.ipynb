{
 "cells": [
  {
   "cell_type": "code",
   "execution_count": null,
   "id": "6ec2fae0-dbea-4cca-ba3f-19e7e6e5d440",
   "metadata": {},
   "outputs": [],
   "source": []
  }
 ],
 "metadata": {
  "kernelspec": {
   "display_name": "",
   "name": ""
  },
  "language_info": {
   "name": ""
  }
 },
 "nbformat": 4,
 "nbformat_minor": 5
}
